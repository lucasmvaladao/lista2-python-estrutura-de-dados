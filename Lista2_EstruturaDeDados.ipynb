{
  "nbformat": 4,
  "nbformat_minor": 0,
  "metadata": {
    "colab": {
      "provenance": [],
      "authorship_tag": "ABX9TyPpVIhhezPMbYobdvczeblw",
      "include_colab_link": true
    },
    "kernelspec": {
      "name": "python3",
      "display_name": "Python 3"
    },
    "language_info": {
      "name": "python"
    }
  },
  "cells": [
    {
      "cell_type": "markdown",
      "metadata": {
        "id": "view-in-github",
        "colab_type": "text"
      },
      "source": [
        "<a href=\"https://colab.research.google.com/github/lucasmvaladao/lista2-python-estrutura-de-dados/blob/main/Lista2_EstruturaDeDados.ipynb\" target=\"_parent\"><img src=\"https://colab.research.google.com/assets/colab-badge.svg\" alt=\"Open In Colab\"/></a>"
      ]
    },
    {
      "cell_type": "markdown",
      "source": [
        "Exercício 1 - Crie uma lista vazia e use o método append para adicionar o número 10. Em\n",
        "seguida, imprima a lista.\n"
      ],
      "metadata": {
        "id": "jXRZawJSIS-x"
      }
    },
    {
      "cell_type": "code",
      "execution_count": 4,
      "metadata": {
        "colab": {
          "base_uri": "https://localhost:8080/"
        },
        "id": "0yAdSdySH714",
        "outputId": "6de00701-9200-4407-8526-35f79e460440"
      },
      "outputs": [
        {
          "output_type": "execute_result",
          "data": {
            "text/plain": [
              "[10]"
            ]
          },
          "metadata": {},
          "execution_count": 4
        }
      ],
      "source": [
        "lista = []\n",
        "\n",
        "lista.append(10)\n",
        "\n",
        "lista"
      ]
    },
    {
      "cell_type": "markdown",
      "source": [
        "Exercício 2 - Crie uma lista vazia e use append para adicionar os números 5, 3, 8, 6 e 1.\n",
        "Imprima a lista resultante."
      ],
      "metadata": {
        "id": "GSgsVqvnIYT_"
      }
    },
    {
      "cell_type": "code",
      "source": [
        "lista = []\n",
        "\n",
        "lista.append(5)\n",
        "lista.append(3)\n",
        "lista.append(8)\n",
        "lista.append(6)\n",
        "lista.append(1)\n",
        "\n",
        "lista"
      ],
      "metadata": {
        "colab": {
          "base_uri": "https://localhost:8080/"
        },
        "id": "0wKY_gTkId22",
        "outputId": "67b94916-d002-4e6e-a3e2-49652fe9a48c"
      },
      "execution_count": 6,
      "outputs": [
        {
          "output_type": "execute_result",
          "data": {
            "text/plain": [
              "[5, 3, 8, 6, 1]"
            ]
          },
          "metadata": {},
          "execution_count": 6
        }
      ]
    },
    {
      "cell_type": "markdown",
      "source": [
        "Exercício 3 - Crie uma função que receba uma lista e um valor, insira o valor \\usando\n",
        "append e retorne a lista atualizada."
      ],
      "metadata": {
        "id": "yEAZkJWBJRM_"
      }
    },
    {
      "cell_type": "code",
      "source": [
        "def adicionar_valor(lista,x):\n",
        "    lista.append(x)\n",
        "    return lista\n",
        "\n",
        "lista1 = []\n",
        "\n",
        "resultado = adicionar_valor(lista1, 5)\n",
        "\n",
        "lista1\n"
      ],
      "metadata": {
        "colab": {
          "base_uri": "https://localhost:8080/"
        },
        "id": "7h0gSRWMJptG",
        "outputId": "064ef9ca-4783-43a6-ae9c-544b9ce39ef5"
      },
      "execution_count": 10,
      "outputs": [
        {
          "output_type": "execute_result",
          "data": {
            "text/plain": [
              "[5]"
            ]
          },
          "metadata": {},
          "execution_count": 10
        }
      ]
    },
    {
      "cell_type": "markdown",
      "source": [
        "Exercício 4 - Crie uma função que faça pesquisa linear em uma lista e retorne o índice\n",
        "do elemento se encontrado ou -1 se não estiver presente.\n",
        "\n"
      ],
      "metadata": {
        "id": "NNK2bEgKPX4W"
      }
    },
    {
      "cell_type": "code",
      "source": [
        "def pesquisa(lista,x):\n",
        "  for i in range(len(lista)):\n",
        "    if lista[i] == x:\n",
        "      return i\n",
        "  return -1\n",
        "\n",
        "\n",
        "linear = [1, 3, 5]\n",
        "\n",
        "resultado = pesquisa(linear, 5)\n",
        "resultado"
      ],
      "metadata": {
        "colab": {
          "base_uri": "https://localhost:8080/"
        },
        "id": "gikeLXozQjW2",
        "outputId": "4357b750-74e7-4a11-f6f8-2ab2add690a3"
      },
      "execution_count": 14,
      "outputs": [
        {
          "output_type": "execute_result",
          "data": {
            "text/plain": [
              "2"
            ]
          },
          "metadata": {},
          "execution_count": 14
        }
      ]
    },
    {
      "cell_type": "markdown",
      "source": [
        "Exercício 5 - Crie uma função que remova a primeira ocorrência de um elemento de\n",
        "uma lista sem utilizar o método remove.\n"
      ],
      "metadata": {
        "id": "1PRTil-gdGd1"
      }
    },
    {
      "cell_type": "code",
      "source": [
        "def excluir(lista):\n",
        "  del(lista[0])\n",
        "  return lista\n",
        "\n",
        "\n",
        "alunos = ['Lucas', 'Maciel', 'Valadão']\n",
        "numeros = [2, 3, 4, 5]\n",
        "\n",
        "resultado = excluir(alunos)\n",
        "resultado = excluir(numeros)\n",
        "\n",
        "alunos\n",
        "numeros"
      ],
      "metadata": {
        "colab": {
          "base_uri": "https://localhost:8080/"
        },
        "id": "omoCZx-BdML0",
        "outputId": "27042f10-d2f3-470a-d5a5-bcc86d85aac6"
      },
      "execution_count": 44,
      "outputs": [
        {
          "output_type": "execute_result",
          "data": {
            "text/plain": [
              "[3, 4, 5]"
            ]
          },
          "metadata": {},
          "execution_count": 44
        }
      ]
    },
    {
      "cell_type": "markdown",
      "source": [
        "Exercício 6 - Crie uma função que insira um elemento em uma lista ordenada,\n",
        "mantendo a ordem sem usar sort."
      ],
      "metadata": {
        "id": "cKrcJHh9gkot"
      }
    },
    {
      "cell_type": "code",
      "source": [
        "def inserir(lista, x):\n",
        "  for i in range(len(lista)):\n",
        "    if lista[i] > x :\n",
        "     lista.insert(i, x)\n",
        "     return lista\n",
        "\n",
        "\n",
        "numeros = [1, 3, 5, 7, 9]\n",
        "\n",
        "resultado = inserir(numeros, 4)\n",
        "\n",
        "numeros"
      ],
      "metadata": {
        "colab": {
          "base_uri": "https://localhost:8080/"
        },
        "id": "2sm1mBU3wXuS",
        "outputId": "aa5ee60a-4931-4510-f6ea-d3a71f265893"
      },
      "execution_count": 49,
      "outputs": [
        {
          "output_type": "execute_result",
          "data": {
            "text/plain": [
              "[1, 3, 4, 5, 7, 9]"
            ]
          },
          "metadata": {},
          "execution_count": 49
        }
      ]
    },
    {
      "cell_type": "markdown",
      "source": [
        "Exercício 7 - Crie uma lista vazia e, usando um loop, insira os números de 1 a 10 usando\n",
        "append."
      ],
      "metadata": {
        "id": "jPwCih13xvoM"
      }
    },
    {
      "cell_type": "code",
      "source": [
        "numero = []\n",
        "soma = 0\n",
        "\n",
        "for i in range(10):\n",
        "      soma = soma + 1\n",
        "      numero.append(soma)\n",
        "\n",
        "\n",
        "numero"
      ],
      "metadata": {
        "colab": {
          "base_uri": "https://localhost:8080/"
        },
        "id": "JwBPn6TRxzWR",
        "outputId": "b59b8414-0ec7-4523-f927-0fe765e4ad1e"
      },
      "execution_count": 53,
      "outputs": [
        {
          "output_type": "execute_result",
          "data": {
            "text/plain": [
              "[1, 2, 3, 4, 5, 6, 7, 8, 9, 10]"
            ]
          },
          "metadata": {},
          "execution_count": 53
        }
      ]
    },
    {
      "cell_type": "markdown",
      "source": [
        "Exercício 8 - Crie uma função que inverta uma lista sem usar o método reverse."
      ],
      "metadata": {
        "id": "pKZJv5cJzGoL"
      }
    },
    {
      "cell_type": "code",
      "source": [
        "def reverter(lista):\n",
        "\n",
        "  novalista = []\n",
        "\n",
        "  for i in range(len(lista)-1, -1, -1):\n",
        "    novalista.append(lista[i])\n",
        "\n",
        "  return novalista\n",
        "\n",
        "num = [1, 5, 6, 2]\n",
        "\n",
        "resultado = reverter(num)\n",
        "resultado"
      ],
      "metadata": {
        "colab": {
          "base_uri": "https://localhost:8080/"
        },
        "id": "63YIi0tSzNpC",
        "outputId": "774cb637-c0a8-4027-906d-f5243b4df579"
      },
      "execution_count": 63,
      "outputs": [
        {
          "output_type": "execute_result",
          "data": {
            "text/plain": [
              "[2, 6, 5, 1]"
            ]
          },
          "metadata": {},
          "execution_count": 63
        }
      ]
    },
    {
      "cell_type": "markdown",
      "source": [
        "Exercício 9 - Crie uma função que receba uma lista e retorne a soma de todos os seus\n",
        "elementos."
      ],
      "metadata": {
        "id": "AiU3wjNn5LTp"
      }
    },
    {
      "cell_type": "code",
      "source": [
        "def SomaLista(lista):\n",
        "  soma = 0\n",
        "  for i in lista:\n",
        "    soma = soma + i\n",
        "  return soma\n",
        "\n",
        "\n",
        "numeros = [1, 3]\n",
        "resultado = SomaLista(numeros)\n",
        "resultado"
      ],
      "metadata": {
        "colab": {
          "base_uri": "https://localhost:8080/"
        },
        "id": "xf5WMtPK5PFq",
        "outputId": "ce655375-14ac-4e12-877b-d0d8c641a057"
      },
      "execution_count": 68,
      "outputs": [
        {
          "output_type": "execute_result",
          "data": {
            "text/plain": [
              "4"
            ]
          },
          "metadata": {},
          "execution_count": 68
        }
      ]
    },
    {
      "cell_type": "markdown",
      "source": [
        "Exercício 10 - Crie uma função que encontre e retorne o maior elemento de uma lista"
      ],
      "metadata": {
        "id": "FWemb_vt60ZJ"
      }
    },
    {
      "cell_type": "code",
      "source": [
        "def MaiorLista(lista):\n",
        "  MaiorNumAtual = 0\n",
        "\n",
        "  for i in lista:\n",
        "    if i > MaiorNumAtual:\n",
        "      MaiorNumAtual = i\n",
        "  return MaiorNumAtual\n",
        "\n",
        "\n",
        "num = [1, 5, 6, 2, 20]\n",
        "resultado = MaiorLista(num)\n",
        "resultado"
      ],
      "metadata": {
        "colab": {
          "base_uri": "https://localhost:8080/"
        },
        "id": "KjO1LXDz66DY",
        "outputId": "7358b1cf-6d03-4b4e-eb7f-2f81bf0e8535"
      },
      "execution_count": 74,
      "outputs": [
        {
          "output_type": "execute_result",
          "data": {
            "text/plain": [
              "20"
            ]
          },
          "metadata": {},
          "execution_count": 74
        }
      ]
    },
    {
      "cell_type": "markdown",
      "source": [
        "Exercício 11 - Crie uma função que encontre e retorne o menor elemento de uma lista.\n"
      ],
      "metadata": {
        "id": "VW6Hi9sx9Syq"
      }
    },
    {
      "cell_type": "code",
      "source": [
        "def MenorLista(lista):\n",
        "  MenorNumAtual = float('inf')\n",
        "\n",
        "  for i in lista:\n",
        "    if i < MenorNumAtual:\n",
        "      MenorNumAtual = i\n",
        "  return MenorNumAtual\n",
        "\n",
        "\n",
        "num = [ 5, 6, 2, 20]\n",
        "resultado = MenorLista(num)\n",
        "resultado"
      ],
      "metadata": {
        "colab": {
          "base_uri": "https://localhost:8080/"
        },
        "id": "GBRVHfkl9YWi",
        "outputId": "66c9f7d7-8bb1-4623-9dc2-4f3558c80f15"
      },
      "execution_count": 79,
      "outputs": [
        {
          "output_type": "execute_result",
          "data": {
            "text/plain": [
              "2"
            ]
          },
          "metadata": {},
          "execution_count": 79
        }
      ]
    },
    {
      "cell_type": "markdown",
      "source": [
        "Exercício 12 - Crie uma função que conte quantas vezes um dado elemento aparece em\n",
        "uma lista."
      ],
      "metadata": {
        "id": "LkUvzW5t-vyJ"
      }
    },
    {
      "cell_type": "code",
      "source": [
        "def ContarRepe(lista):\n",
        "\n",
        "  contagem = {}\n",
        "\n",
        "  for i in lista:\n",
        "    if i in contagem:\n",
        "      contagem[i] = contagem[i] + 1\n",
        "    else:\n",
        "      contagem[i] = 1\n",
        "\n",
        "  return contagem\n",
        "\n",
        "num = [ 5, 6, 2, 20, 20, 20, 1, 4, 5, 6, 7, 8, 6, 6]\n",
        "\n",
        "resultado = ContarRepe(num)\n",
        "resultado"
      ],
      "metadata": {
        "colab": {
          "base_uri": "https://localhost:8080/"
        },
        "id": "hAO1XkULGzS-",
        "outputId": "d3036c99-1f87-4c4d-d689-55e6b36d2ae1"
      },
      "execution_count": 82,
      "outputs": [
        {
          "output_type": "execute_result",
          "data": {
            "text/plain": [
              "{5: 2, 6: 4, 2: 1, 20: 3, 1: 1, 4: 1, 7: 1, 8: 1}"
            ]
          },
          "metadata": {},
          "execution_count": 82
        }
      ]
    },
    {
      "cell_type": "markdown",
      "source": [
        "Exercício 13 - Crie uma função que retorne uma nova lista contendo apenas os números\n",
        "pares de uma lista dada."
      ],
      "metadata": {
        "id": "wU80AhVnJvu_"
      }
    },
    {
      "cell_type": "code",
      "source": [
        "def ListaPares(lista):\n",
        "  NovaLista = []\n",
        "  for i in lista:\n",
        "    if i % 2 == 0:\n",
        "      NovaLista.append(i)\n",
        "  return NovaLista\n",
        "\n",
        "\n",
        "\n",
        "num = [ 5, 6, 2, 20]\n",
        "\n",
        "resultado = ListaPares(num)\n",
        "resultado"
      ],
      "metadata": {
        "colab": {
          "base_uri": "https://localhost:8080/"
        },
        "id": "oB7K1fw_J0pV",
        "outputId": "f72f2f63-2e5d-4253-dd61-1a99dee086da"
      },
      "execution_count": 84,
      "outputs": [
        {
          "output_type": "execute_result",
          "data": {
            "text/plain": [
              "[6, 2, 20]"
            ]
          },
          "metadata": {},
          "execution_count": 84
        }
      ]
    },
    {
      "cell_type": "markdown",
      "source": [
        "Exercício 14 - Crie uma função que retorne uma nova lista com o quadrado de cada\n",
        "elemento da lista original."
      ],
      "metadata": {
        "id": "p21SXoOvKr6G"
      }
    },
    {
      "cell_type": "code",
      "source": [
        "def Quadrado(lista):\n",
        "  ListaQuadrada = []\n",
        "  for i in lista:\n",
        "       ListaQuadrada.append(i**2)\n",
        "  return ListaQuadrada\n",
        "\n",
        "num = [ 5, 6, 2, 20]\n",
        "\n",
        "resultado = Quadrado(num)\n",
        "resultado"
      ],
      "metadata": {
        "colab": {
          "base_uri": "https://localhost:8080/"
        },
        "id": "M52QfxWGKvJG",
        "outputId": "27a613a9-1f8e-4765-edf8-12d8ebc14cbc"
      },
      "execution_count": 86,
      "outputs": [
        {
          "output_type": "execute_result",
          "data": {
            "text/plain": [
              "[25, 36, 4, 400]"
            ]
          },
          "metadata": {},
          "execution_count": 86
        }
      ]
    },
    {
      "cell_type": "markdown",
      "source": [
        "Exercício 15 - Crie uma função que verifique se um elemento está presente em uma lista,\n",
        "retornando True ou False."
      ],
      "metadata": {
        "id": "0EwHVAL9LzVX"
      }
    },
    {
      "cell_type": "code",
      "source": [
        "def VerificaExis(lista, x):\n",
        "\n",
        "    if x in lista:\n",
        "      return True\n",
        "    else:\n",
        "      return False\n",
        "\n",
        "num = [ 5, 6, 2, 20]\n",
        "resultado = VerificaExis(num, 1)\n",
        "resultado"
      ],
      "metadata": {
        "colab": {
          "base_uri": "https://localhost:8080/"
        },
        "id": "ETocTNu8L7Z9",
        "outputId": "2cd00e50-b143-4876-9729-03b431c3e04a"
      },
      "execution_count": 90,
      "outputs": [
        {
          "output_type": "execute_result",
          "data": {
            "text/plain": [
              "False"
            ]
          },
          "metadata": {},
          "execution_count": 90
        }
      ]
    },
    {
      "cell_type": "markdown",
      "source": [
        "Exercício 16 - Crie uma função que receba uma lista e retorne uma nova lista com os\n",
        "elementos duplicados removidos, mantendo a ordem original."
      ],
      "metadata": {
        "id": "2Ayil7BQMoI-"
      }
    },
    {
      "cell_type": "code",
      "source": [
        "def RemoveRep(lista):\n",
        "\n",
        "  NovaLista = []\n",
        "\n",
        "  for i in lista:\n",
        "    if i in NovaLista:\n",
        "      NovaLista.remove(i)\n",
        "    else:\n",
        "     NovaLista.append(i)\n",
        "\n",
        "  return NovaLista\n",
        "\n",
        "num = [ 5, 6, 2, 20, 20, 20, 1, 4, 5, 6, 7, 8, 6, 6]\n",
        "\n",
        "resultado = RemoveRep(num)\n",
        "resultado"
      ],
      "metadata": {
        "colab": {
          "base_uri": "https://localhost:8080/"
        },
        "id": "oS1Etp_xNTQ2",
        "outputId": "7b2cad73-969f-439e-b5ec-b2a84a6a4f6a"
      },
      "execution_count": 92,
      "outputs": [
        {
          "output_type": "execute_result",
          "data": {
            "text/plain": [
              "[2, 20, 1, 4, 7, 8]"
            ]
          },
          "metadata": {},
          "execution_count": 92
        }
      ]
    },
    {
      "cell_type": "markdown",
      "source": [
        "Exercício 17 - Crie uma função que insira um elemento em uma lista apenas se ele ainda\n",
        "não estiver presente."
      ],
      "metadata": {
        "id": "C-Cv8up7PNE9"
      }
    },
    {
      "cell_type": "code",
      "source": [
        "def InsiriNov(lista, x):\n",
        "\n",
        "    if x in lista:\n",
        "      print('Esse número já existe na lista.')\n",
        "    else:\n",
        "     lista.append(x)\n",
        "\n",
        "    return lista\n",
        "\n",
        "num = [ 5, 6, 2, 20]\n",
        "\n",
        "resultado = InsiriNov(num, 2)\n",
        "resultado"
      ],
      "metadata": {
        "colab": {
          "base_uri": "https://localhost:8080/"
        },
        "id": "F-lIh-zUPP-V",
        "outputId": "7106ee07-495a-4c35-dc1e-ed76c6c51a92"
      },
      "execution_count": 98,
      "outputs": [
        {
          "output_type": "stream",
          "name": "stdout",
          "text": [
            "Esse número já existe na lista.\n"
          ]
        },
        {
          "output_type": "execute_result",
          "data": {
            "text/plain": [
              "[5, 6, 2, 20]"
            ]
          },
          "metadata": {},
          "execution_count": 98
        }
      ]
    },
    {
      "cell_type": "markdown",
      "source": [
        "Exercício 18 - Crie uma função que combine duas listas e retorne uma única lista com\n",
        "todos os elementos."
      ],
      "metadata": {
        "id": "81IzqbCEQU9O"
      }
    },
    {
      "cell_type": "code",
      "source": [
        "\n",
        "def Combinar(lista, lista1):\n",
        "  ListaDupla = []\n",
        "\n",
        "  ListaDupla.extend(lista)\n",
        "  ListaDupla.extend(lista1)\n",
        "\n",
        "  return ListaDupla\n",
        "\n",
        "\n",
        "num = [ 1, 2, 3, 4]\n",
        "num1 = [ 5, 6, 7, 8]\n",
        "\n",
        "\n",
        "resultado = Combinar(num, num1)\n",
        "\n",
        "resultado"
      ],
      "metadata": {
        "colab": {
          "base_uri": "https://localhost:8080/"
        },
        "id": "rP02uS-xQzC1",
        "outputId": "d95063d5-527c-4fa7-8e79-9bad3cd4628d"
      },
      "execution_count": 100,
      "outputs": [
        {
          "output_type": "execute_result",
          "data": {
            "text/plain": [
              "[1, 2, 3, 4, 5, 6, 7, 8]"
            ]
          },
          "metadata": {},
          "execution_count": 100
        }
      ]
    },
    {
      "cell_type": "markdown",
      "source": [
        "Exercício 19 - Crie uma função que retorne os elementos de uma lista em ordem inversa\n",
        "(sem usar o método reverse)."
      ],
      "metadata": {
        "id": "hq7oDRR-Uo1N"
      }
    },
    {
      "cell_type": "code",
      "source": [
        "def inverter_listaa(lista):\n",
        "  return lista[::-1]\n",
        "\n",
        "\n",
        "num = [ 1, 2, 3, 4]\n",
        "\n",
        "resultado = inverter_listaa(num)\n",
        "resultado"
      ],
      "metadata": {
        "colab": {
          "base_uri": "https://localhost:8080/"
        },
        "id": "9llW9l7nUsAu",
        "outputId": "56351e81-6678-49d3-dcb2-44297af1eb8a"
      },
      "execution_count": 101,
      "outputs": [
        {
          "output_type": "execute_result",
          "data": {
            "text/plain": [
              "[4, 3, 2, 1]"
            ]
          },
          "metadata": {},
          "execution_count": 101
        }
      ]
    },
    {
      "cell_type": "markdown",
      "source": [
        "Exercício 20 - Crie uma função que calcule a média dos elementos de uma lista de\n",
        "números."
      ],
      "metadata": {
        "id": "SQvCv6edV3wb"
      }
    },
    {
      "cell_type": "code",
      "source": [
        "def media(lista):\n",
        "    soma = 0\n",
        "\n",
        "    for i in lista:\n",
        "      soma += i\n",
        "    media = soma / len(lista)\n",
        "    return media\n",
        "\n",
        "num = [ 5, 5]\n",
        "resultado = media(num)\n",
        "resultado\n"
      ],
      "metadata": {
        "colab": {
          "base_uri": "https://localhost:8080/"
        },
        "id": "sgMMbQ5aV9Ks",
        "outputId": "7446d87e-3aa7-4430-ae7a-93830e879b36"
      },
      "execution_count": 106,
      "outputs": [
        {
          "output_type": "execute_result",
          "data": {
            "text/plain": [
              "5.0"
            ]
          },
          "metadata": {},
          "execution_count": 106
        }
      ]
    },
    {
      "cell_type": "markdown",
      "source": [
        "Exercício 21 - Crie uma função que retorne o segundo maior elemento de uma lista.\n",
        "(Considere que a lista pode ter duplicatas.)\n"
      ],
      "metadata": {
        "id": "N2urBfsPXyMt"
      }
    },
    {
      "cell_type": "code",
      "source": [
        "def SegMaior(lista):\n",
        "  NumEmOrdem = []\n",
        "  NumEmOrdem = list(set(lista))\n",
        "  NumEmOrdem.sort\n",
        "\n",
        "  return NumEmOrdem[-2]\n",
        "\n",
        "num = [ 5, 6, 2, 20, 20, 20, 1, 4, 5, 6, 7, 8, 6, 6, 12]\n",
        "resultado = SegMaior(num)\n",
        "resultado"
      ],
      "metadata": {
        "colab": {
          "base_uri": "https://localhost:8080/"
        },
        "id": "qUuKy0K-Z8rE",
        "outputId": "f3ce0ed8-c588-4a56-8e8e-de2e63caae82"
      },
      "execution_count": 109,
      "outputs": [
        {
          "output_type": "execute_result",
          "data": {
            "text/plain": [
              "12"
            ]
          },
          "metadata": {},
          "execution_count": 109
        }
      ]
    },
    {
      "cell_type": "markdown",
      "source": [
        "Exercício 22 - Crie uma função que retorne o índice do primeiro elemento de uma lista\n",
        "que seja maior que um valor dado"
      ],
      "metadata": {
        "id": "Gm3yfjKLcBL1"
      }
    },
    {
      "cell_type": "code",
      "source": [
        "def MaiorQueLista(lista, x):\n",
        "\n",
        "  for i in range(len(lista)):\n",
        "    if lista[i] > x:\n",
        "     return i\n",
        "\n",
        "\n",
        "num = [ 1, 5, 3, 6]\n",
        "resultado = MaiorQueLista(num, 4)\n",
        "resultado"
      ],
      "metadata": {
        "colab": {
          "base_uri": "https://localhost:8080/"
        },
        "id": "-Aat79wXcGU7",
        "outputId": "4578b687-abd1-48df-b570-7bfbba37ac06"
      },
      "execution_count": 118,
      "outputs": [
        {
          "output_type": "execute_result",
          "data": {
            "text/plain": [
              "1"
            ]
          },
          "metadata": {},
          "execution_count": 118
        }
      ]
    },
    {
      "cell_type": "markdown",
      "source": [
        "Exercício 23 - Crie uma função que retorne uma lista com os elementos que são comuns\n",
        "a duas listas (sem duplicatas)."
      ],
      "metadata": {
        "id": "m39Y2AYcgM-L"
      }
    },
    {
      "cell_type": "code",
      "source": [
        "def Comum(lista, lista1):\n",
        "\n",
        "  ListaComum = []\n",
        "\n",
        "  for i in lista:\n",
        "    if i in lista1:\n",
        "      ListaComum.append(i)\n",
        "\n",
        "  return ListaComum\n",
        "\n",
        "\n",
        "num = [ 1, 5, 3, 6]\n",
        "num1 = [ 1, 25, 3, 26]\n",
        "\n",
        "resultado = Comum(num, num1)\n",
        "resultado"
      ],
      "metadata": {
        "colab": {
          "base_uri": "https://localhost:8080/"
        },
        "id": "szKvEMQHg75j",
        "outputId": "dd18d16f-3784-4b2f-93be-22b88d7d9a9a"
      },
      "execution_count": 122,
      "outputs": [
        {
          "output_type": "execute_result",
          "data": {
            "text/plain": [
              "[1, 3]"
            ]
          },
          "metadata": {},
          "execution_count": 122
        }
      ]
    },
    {
      "cell_type": "markdown",
      "source": [
        "Exercício 24 - Crie uma função que conte quantos números ímpares existem em uma\n",
        "lista.\n"
      ],
      "metadata": {
        "id": "zJdttrs9ithj"
      }
    },
    {
      "cell_type": "code",
      "source": [
        "def ContarImp(lista):\n",
        " contador = 0\n",
        " for i in lista:\n",
        "  if i % 2 == 1:\n",
        "    contador += 1\n",
        " return contador\n",
        "\n",
        "num = [ 1, 5, 3, 6]\n",
        "\n",
        "resultado = ContarImp(num)\n",
        "resultado"
      ],
      "metadata": {
        "colab": {
          "base_uri": "https://localhost:8080/"
        },
        "id": "wDceqXd6mTTG",
        "outputId": "bc537921-277b-4fc2-b2b2-8ada84b5a54a"
      },
      "execution_count": 123,
      "outputs": [
        {
          "output_type": "execute_result",
          "data": {
            "text/plain": [
              "3"
            ]
          },
          "metadata": {},
          "execution_count": 123
        }
      ]
    },
    {
      "cell_type": "markdown",
      "source": [
        "Exercício 25 -  Crie uma função que retorne uma lista com os índices em que um\n",
        "determinado valor ocorre em uma lista."
      ],
      "metadata": {
        "id": "mOog8iapnOgq"
      }
    },
    {
      "cell_type": "code",
      "source": [
        "def IndiOcorre(lista, x):\n",
        "\n",
        "  ListaIndice = []\n",
        "\n",
        "  for i in range(len(lista)):\n",
        "   if lista[i] == x:\n",
        "      ListaIndice.append(i)\n",
        "  return ListaIndice\n",
        "\n",
        "\n",
        "num = [ 1, 5, 3, 6, 3, 5, 3]\n",
        "\n",
        "resultado = IndiOcorre(num, 3)\n",
        "resultado"
      ],
      "metadata": {
        "colab": {
          "base_uri": "https://localhost:8080/"
        },
        "id": "CdOMFLfpNozB",
        "outputId": "b525dde6-d536-4a61-ad7e-356ae1087b38"
      },
      "execution_count": 128,
      "outputs": [
        {
          "output_type": "execute_result",
          "data": {
            "text/plain": [
              "[2, 4, 6]"
            ]
          },
          "metadata": {},
          "execution_count": 128
        }
      ]
    },
    {
      "cell_type": "markdown",
      "source": [
        "Exercício 26 - Crie uma função que receba uma lista e retorne uma nova lista onde cada\n",
        "elemento aparece duas vezes consecutivas."
      ],
      "metadata": {
        "id": "b9RoT1EVL51d"
      }
    },
    {
      "cell_type": "code",
      "source": [
        "def Consecutiva(lista):\n",
        "  ListaConsecutiva = []\n",
        "\n",
        "  for i in lista:\n",
        "   ListaConsecutiva.append(i)\n",
        "   ListaConsecutiva.append(i)\n",
        "\n",
        "  return ListaConsecutiva\n",
        "\n",
        "num = [ 1, 5, 3, 6]\n",
        "\n",
        "resultado = Consecutiva(num)\n",
        "resultado\n"
      ],
      "metadata": {
        "colab": {
          "base_uri": "https://localhost:8080/"
        },
        "id": "AIfneRV9qeDC",
        "outputId": "c5899409-97c6-4f2a-aff5-f371d6a3207a"
      },
      "execution_count": 134,
      "outputs": [
        {
          "output_type": "execute_result",
          "data": {
            "text/plain": [
              "[1, 1, 5, 5, 3, 3, 6, 6]"
            ]
          },
          "metadata": {},
          "execution_count": 134
        }
      ]
    },
    {
      "cell_type": "markdown",
      "source": [
        "Exercício 27 - Crie uma função que ordene uma lista em ordem crescente\n",
        "implementando o algoritmo de Selection Sort, sem usar métodos nativos de\n",
        "ordenação.\n"
      ],
      "metadata": {
        "id": "w0tfFPp_ro5H"
      }
    },
    {
      "cell_type": "code",
      "source": [
        "def selection_sort(lista):\n",
        "\n",
        "    for i in range(len(lista)):\n",
        "\n",
        "        menor_index = i\n",
        "\n",
        "        for j in range(i + 1, len(lista)):\n",
        "            if lista[j] < lista[menor_index]:\n",
        "                menor_index = j\n",
        "\n",
        "        lista[i], lista[menor_index] = lista[menor_index], lista[i]\n",
        "    return lista\n",
        "\n",
        "\n",
        "numeros = [64, 25, 12, 22, 11]\n",
        "resultado = selection_sort(numeros)\n",
        "print(resultado)\n"
      ],
      "metadata": {
        "colab": {
          "base_uri": "https://localhost:8080/"
        },
        "id": "TlQdRk1Dsk9C",
        "outputId": "3e7107bd-df3a-4a8d-aab8-2c5ae60a130f"
      },
      "execution_count": 135,
      "outputs": [
        {
          "output_type": "stream",
          "name": "stdout",
          "text": [
            "[11, 12, 22, 25, 64]\n"
          ]
        }
      ]
    },
    {
      "cell_type": "markdown",
      "source": [
        "Exercício 28 - Crie uma função que remova o primeiro e o último elemento de uma lista\n",
        "e retorne a nova lista.\n"
      ],
      "metadata": {
        "id": "wmch7rUiL5ys"
      }
    },
    {
      "cell_type": "code",
      "source": [
        "def RemovePU(lista):\n",
        "    del(lista[0])\n",
        "    del(lista[-1])\n",
        "    return lista\n",
        "\n",
        "\n",
        "numeros = [64, 25, 12, 22, 11]\n",
        "resultado = RemovePU(numeros)\n",
        "resultado"
      ],
      "metadata": {
        "colab": {
          "base_uri": "https://localhost:8080/"
        },
        "id": "xHnZcGMbsxyq",
        "outputId": "686c6043-efd1-42bf-9e5d-dbb1b511d24e"
      },
      "execution_count": 142,
      "outputs": [
        {
          "output_type": "execute_result",
          "data": {
            "text/plain": [
              "[25, 12, 22]"
            ]
          },
          "metadata": {},
          "execution_count": 142
        }
      ]
    },
    {
      "cell_type": "markdown",
      "source": [
        "Exercício 29 - Crie uma função que retorne True se uma lista estiver vazia e False caso\n",
        "contrário."
      ],
      "metadata": {
        "id": "vN7FZkb2L5v0"
      }
    },
    {
      "cell_type": "code",
      "source": [
        "def estado(lista):\n",
        "  if not lista:\n",
        "    return True\n",
        "  else:\n",
        "    return False\n",
        "\n",
        "numeros = [64, 25, 12, 22, 11]\n",
        "resultado = estado(numeros)\n",
        "resultado"
      ],
      "metadata": {
        "colab": {
          "base_uri": "https://localhost:8080/"
        },
        "id": "ja36yDsuuuSq",
        "outputId": "0a0c4242-7528-40ed-f8cd-3088ae48b534"
      },
      "execution_count": 145,
      "outputs": [
        {
          "output_type": "execute_result",
          "data": {
            "text/plain": [
              "False"
            ]
          },
          "metadata": {},
          "execution_count": 145
        }
      ]
    },
    {
      "cell_type": "markdown",
      "source": [
        "Exercício 30 - Crie uma função que receba duas listas de mesmo tamanho (vetores) e\n",
        "retorne uma nova lista com a soma elemento a elemento."
      ],
      "metadata": {
        "id": "yXoClQBWL5tM"
      }
    },
    {
      "cell_type": "code",
      "source": [
        "def SomaVetores(lista, lista1):\n",
        "  if len(lista) == len(lista1):\n",
        "   soma = []\n",
        "   for i in range(len(lista)):\n",
        "     soma.append(lista[i] + lista1[i])\n",
        "   return soma\n",
        "  else:\n",
        "   return \"As listas devem ter o mesmo tamanho\"\n",
        "\n",
        "\n",
        "numeros = [64, 25, 12, 22, 11]\n",
        "numeros1 = [64, 25, 12, 22, 11]\n",
        "\n",
        "resultado = SomaVetores(numeros, numeros1)\n",
        "resultado\n",
        ""
      ],
      "metadata": {
        "colab": {
          "base_uri": "https://localhost:8080/"
        },
        "id": "jQ3-LAeRwBaB",
        "outputId": "76322c1a-23e6-410f-b06c-385de1f95724"
      },
      "execution_count": 147,
      "outputs": [
        {
          "output_type": "execute_result",
          "data": {
            "text/plain": [
              "[128, 50, 24, 44, 22]"
            ]
          },
          "metadata": {},
          "execution_count": 147
        }
      ]
    },
    {
      "cell_type": "markdown",
      "source": [
        "Exercício 31 - Crie um programa que solicite ao usuário o nome de um aluno e verifique se esse aluno pertence a uma lista de alunos de uma sala de aula. O programa deve informar se o aluno está presente na lista ou não."
      ],
      "metadata": {
        "id": "zuB9NreJL5oN"
      }
    },
    {
      "cell_type": "code",
      "source": [
        "alunos = [\"Ana\", \"Bruno\", \"Carlos\", \"Daniela\", \"Eduardo\",\n",
        "          \"Fernanda\", \"Gabriel\", \"Helena\", \"Igor\", \"Juliana\"]\n",
        "\n",
        "nome = str(input('Digite um nome e verifique se esse aluno pertence a sua sala: '))\n",
        "\n",
        "if nome in alunos:\n",
        "  print(f'{nome} pertence a sua turma.')\n",
        "else:\n",
        "  print(f'{nome} não pertence a sua turma.')"
      ],
      "metadata": {
        "colab": {
          "base_uri": "https://localhost:8080/"
        },
        "id": "WgI5wbZfSlnW",
        "outputId": "fa1ffaa4-e1de-4136-e7f0-d0f17058f68c"
      },
      "execution_count": 35,
      "outputs": [
        {
          "output_type": "stream",
          "name": "stdout",
          "text": [
            "Digite um nome e verifique se esse aluno pertence a sua sala: Ana\n",
            "Ana pertence a sua turma.\n"
          ]
        }
      ]
    }
  ]
}